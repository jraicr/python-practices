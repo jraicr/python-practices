{
 "cells": [
  {
   "cell_type": "code",
   "execution_count": 4,
   "id": "36999070",
   "metadata": {},
   "outputs": [],
   "source": [
    "import pymongo\n",
    "from bokeh.models import ColumnDataSource\n",
    "from bokeh.plotting import curdoc, figure"
   ]
  },
  {
   "cell_type": "code",
   "execution_count": 5,
   "id": "948c98c9",
   "metadata": {},
   "outputs": [],
   "source": [
    "mongoClient = pymongo.MongoClient('mongodb://localhost:27017/')\n",
    "db = mongoClient[\"CACO\"]\n",
    "clusco_hour_data = db['CLUSCO_min']"
   ]
  },
  {
   "cell_type": "code",
   "execution_count": 6,
   "id": "483fa5f7",
   "metadata": {
    "scrolled": false
   },
   "outputs": [],
   "source": [
    "SCB_pixel_temperature_query = { 'name' : 'scb_pixel_temperature' }\n",
    "cursor_SCB_pixel_temperature_docs = clusco_hour_data.find(SCB_pixel_temperature_query)"
   ]
  },
  {
   "cell_type": "code",
   "execution_count": 7,
   "id": "06a7d182",
   "metadata": {},
   "outputs": [
    {
     "name": "stdout",
     "output_type": "stream",
     "text": [
      "<pymongo.cursor.Cursor object at 0x115598510>\n"
     ]
    }
   ],
   "source": [
    "print(cursor_SCB_pixel_temperature_docs)"
   ]
  },
  {
   "cell_type": "code",
   "execution_count": null,
   "id": "5ecb138f",
   "metadata": {},
   "outputs": [],
   "source": [
    "len(list(cursor_SCB_pixel_temperature_docs))"
   ]
  },
  {
   "cell_type": "code",
   "execution_count": null,
   "id": "f7858d4a",
   "metadata": {},
   "outputs": [],
   "source": []
  }
 ],
 "metadata": {
  "kernelspec": {
   "display_name": "Python 3 (ipykernel)",
   "language": "python",
   "name": "python3"
  },
  "language_info": {
   "codemirror_mode": {
    "name": "ipython",
    "version": 3
   },
   "file_extension": ".py",
   "mimetype": "text/x-python",
   "name": "python",
   "nbconvert_exporter": "python",
   "pygments_lexer": "ipython3",
   "version": "3.11.0"
  }
 },
 "nbformat": 4,
 "nbformat_minor": 5
}
